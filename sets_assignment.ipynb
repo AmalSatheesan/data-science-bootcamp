{
 "cells": [
  {
   "cell_type": "markdown",
   "metadata": {},
   "source": [
    "# Module 3: Data Structures Assignments\n",
    "## Lesson 3.3: Sets"
   ]
  },
  {
   "cell_type": "markdown",
   "id": "5fcc3ebc",
   "metadata": {},
   "source": [
    "### Assignment 1: Creating and Accessing Sets\n",
    "\n",
    "Create a set with the first 10 positive integers. Print the set."
   ]
  },
  {
   "cell_type": "code",
   "execution_count": 14,
   "id": "1762275b",
   "metadata": {},
   "outputs": [
    {
     "name": "stdout",
     "output_type": "stream",
     "text": [
      "Set with first 10 positive integers: {1, 2, 3, 4, 5, 6, 7, 8, 9, 10}\n"
     ]
    }
   ],
   "source": [
    "set3 = set(range(1, 11))\n",
    "print(\"Set with first 10 positive integers:\", set3)"
   ]
  },
  {
   "cell_type": "markdown",
   "id": "910992e4",
   "metadata": {},
   "source": [
    "### Assignment 2: Adding and Removing Elements\n",
    "\n",
    "Add the number 11 to the set created in Assignment 1. Then remove the number 1 from the set. Print the modified set."
   ]
  },
  {
   "cell_type": "code",
   "execution_count": 8,
   "id": "cb8aa5e2",
   "metadata": {},
   "outputs": [
    {
     "name": "stdout",
     "output_type": "stream",
     "text": [
      "Set after adding 11: {1, 2, 3, 4, 5, 6, 7, 8, 9, 10, 11}\n",
      "Set after removing 1: {2, 3, 4, 5, 6, 7, 8, 9, 10, 11}\n"
     ]
    }
   ],
   "source": [
    "set1.add(11)\n",
    "print(\"Set after adding 11:\", set1)\n",
    "set1.remove(1)\n",
    "print(\"Set after removing 1:\", set1)"
   ]
  },
  {
   "cell_type": "markdown",
   "id": "49896b27",
   "metadata": {},
   "source": [
    "### Assignment 3: Set Operations\n",
    "\n",
    "Create two sets: one with the first 5 positive integers and another with the first 5 even integers. Perform and print the results of union, intersection, difference, and symmetric difference operations on these sets."
   ]
  },
  {
   "cell_type": "code",
   "execution_count": 9,
   "id": "56860c20",
   "metadata": {},
   "outputs": [
    {
     "name": "stdout",
     "output_type": "stream",
     "text": [
      "Set with first 5 even integers: {2, 4, 6, 8, 10}\n",
      "Union: {1, 2, 3, 4, 5, 6, 8, 10}\n",
      "Intersection: {2, 4}\n",
      "Difference (set1 - set2): {1, 3, 5}\n",
      "Symmetric Difference: {1, 3, 5, 6, 8, 10}\n"
     ]
    }
   ],
   "source": [
    "set1 = set(range(1, 6))\n",
    "set2 = set(range(2, 12, 2))\n",
    "print(\"Set with first 5 even integers:\", set2) \n",
    "print(\"Union:\", set1.union(set2))\n",
    "print(\"Intersection:\", set1.intersection(set2))\n",
    "print(\"Difference (set1 - set2):\", set1.difference(set2))\n",
    "print(\"Symmetric Difference:\", set1.symmetric_difference(set2))"
   ]
  },
  {
   "cell_type": "markdown",
   "id": "75e68cbb",
   "metadata": {},
   "source": [
    "\n",
    "### Assignment 4: Set Comprehensions\n",
    "\n",
    "Create a new set containing the squares of the first 10 positive integers using a set comprehension. Print the new set.\n"
   ]
  },
  {
   "cell_type": "code",
   "execution_count": 11,
   "id": "bd293a95",
   "metadata": {},
   "outputs": [
    {
     "name": "stdout",
     "output_type": "stream",
     "text": [
      "Set of squares: {64, 1, 4, 36, 100, 9, 16, 49, 81, 25}\n"
     ]
    }
   ],
   "source": [
    "set2 = set(range(1,11))\n",
    "square_set = {x**2 for x in set2}\n",
    "print(\"Set of squares:\", square_set)"
   ]
  },
  {
   "cell_type": "markdown",
   "id": "87cc5414",
   "metadata": {},
   "source": [
    "### Assignment 5: Filtering Sets\n",
    "\n",
    "Create a new set containing only the even numbers from the set created in Assignment 1 using a set comprehension. Print the new set.\n"
   ]
  },
  {
   "cell_type": "code",
   "execution_count": 15,
   "id": "2555d3b4",
   "metadata": {},
   "outputs": [
    {
     "name": "stdout",
     "output_type": "stream",
     "text": [
      "Set of even numbers from set1: {2, 4, 6, 8, 10}\n"
     ]
    }
   ],
   "source": [
    "set_even = {x for x in set3 if x % 2 == 0}\n",
    "print(\"Set of even numbers from set1:\", set_even)"
   ]
  },
  {
   "cell_type": "markdown",
   "id": "14f61c85",
   "metadata": {},
   "source": [
    "### Assignment 6: Set Methods\n",
    "\n",
    "Create a set with duplicate elements and remove the duplicates using set methods. Print the modified set.\n"
   ]
  },
  {
   "cell_type": "code",
   "execution_count": 3,
   "id": "450d3787",
   "metadata": {},
   "outputs": [
    {
     "name": "stdout",
     "output_type": "stream",
     "text": [
      "Set with duplicates removed: {1, 2, 3, 4, 5, 6, 7, 8, 9, 10}\n"
     ]
    }
   ],
   "source": [
    "s = {1,2,2,3,3,3,4,4,4,5,6,7,7,8,9,10}\n",
    "print(\"Set with duplicates removed:\", s)"
   ]
  },
  {
   "cell_type": "markdown",
   "id": "88babde5",
   "metadata": {},
   "source": [
    "### Assignment 7: Subsets and Supersets\n",
    "\n",
    "Create two sets: one with the first 5 positive integers and another with the first 3 positive integers. Check if the second set is a subset of the first set and if the first set is a superset of the second set. Print the results.\n"
   ]
  },
  {
   "cell_type": "code",
   "execution_count": 4,
   "id": "95871555",
   "metadata": {},
   "outputs": [
    {
     "name": "stdout",
     "output_type": "stream",
     "text": [
      "Is set_subset a subset of set_superset? True\n",
      "Is set_superset a superset of set_subset? True\n"
     ]
    }
   ],
   "source": [
    "set_superset = {1, 2, 3, 4, 5}\n",
    "set_subset = {2, 3}\n",
    "print(\"Is set_subset a subset of set_superset?\", set_subset.issubset(set_superset))\n",
    "print(\"Is set_superset a superset of set_subset?\", set_superset.issuperset(set_subset))"
   ]
  },
  {
   "cell_type": "markdown",
   "id": "1da66577",
   "metadata": {},
   "source": [
    "### Assignment 8: Frozenset\n",
    "\n",
    "Create a frozenset with the first 5 positive integers. Print the frozenset.\n"
   ]
  },
  {
   "cell_type": "code",
   "execution_count": 5,
   "id": "44b72893",
   "metadata": {},
   "outputs": [
    {
     "name": "stdout",
     "output_type": "stream",
     "text": [
      "Frozen set: frozenset({1, 2, 3, 4, 5})\n"
     ]
    }
   ],
   "source": [
    "set_frozen = frozenset(range(1, 6))\n",
    "print(\"Frozen set:\", set_frozen)"
   ]
  },
  {
   "cell_type": "markdown",
   "id": "c16901b0",
   "metadata": {},
   "source": [
    "### Assignment 9: Set and List Conversion\n",
    "\n",
    "Create a set with the first 5 positive integers. Convert it to a list, append the number 6, and convert it back to a set. Print the resulting set.\n"
   ]
  },
  {
   "cell_type": "code",
   "execution_count": 6,
   "id": "97816ff1",
   "metadata": {},
   "outputs": [
    {
     "name": "stdout",
     "output_type": "stream",
     "text": [
      "Set after converting to list, adding 6, and converting back to set: {1, 2, 3, 4, 5, 6}\n"
     ]
    }
   ],
   "source": [
    "set5 = set(range(1, 6))\n",
    "set_list = list(set5)\n",
    "set_list.append(6)\n",
    "set6 = set(set_list)\n",
    "print(\"Set after converting to list, adding 6, and converting back to set:\", set6)"
   ]
  },
  {
   "cell_type": "markdown",
   "id": "b46a73c7",
   "metadata": {},
   "source": [
    "### Assignment 10: Set and Dictionary\n",
    "\n",
    "Create a dictionary with set keys and integer values. Print the dictionary.\n"
   ]
  },
  {
   "cell_type": "code",
   "execution_count": 8,
   "id": "5c56c38f",
   "metadata": {},
   "outputs": [
    {
     "name": "stdout",
     "output_type": "stream",
     "text": [
      "{frozenset({1, 2}): 3, frozenset({3, 4}): 7, frozenset({5, 6}): 11}\n"
     ]
    }
   ],
   "source": [
    "d = {\n",
    "    frozenset({1, 2}): 3,\n",
    "    frozenset({3, 4}): 7,\n",
    "    frozenset({5, 6}): 11\n",
    "}\n",
    "print(d)"
   ]
  },
  {
   "cell_type": "markdown",
   "id": "2acde467",
   "metadata": {},
   "source": [
    "### Assignment 11: Iterating Over Sets\n",
    "\n",
    "Create a set and iterate over the elements, printing each element.\n"
   ]
  },
  {
   "cell_type": "code",
   "execution_count": 9,
   "id": "f443e542",
   "metadata": {},
   "outputs": [
    {
     "name": "stdout",
     "output_type": "stream",
     "text": [
      "1\n",
      "2\n",
      "3\n",
      "4\n",
      "5\n",
      "6\n",
      "7\n",
      "8\n",
      "9\n",
      "10\n"
     ]
    }
   ],
   "source": [
    "set8 = set(range(1, 11))\n",
    "for elem in set8:\n",
    "    print(elem)"
   ]
  },
  {
   "cell_type": "markdown",
   "id": "bd607059",
   "metadata": {},
   "source": [
    "### Assignment 12: Removing Elements from Sets\n",
    "\n",
    "Create a set and remove elements from it until it is empty. Print the set after each removal.\n"
   ]
  },
  {
   "cell_type": "code",
   "execution_count": 12,
   "id": "de3ce329",
   "metadata": {},
   "outputs": [
    {
     "name": "stdout",
     "output_type": "stream",
     "text": [
      "Set after attempting to remove elements while iterating: {2, 3, 4, 5, 6, 7, 8, 9, 10}\n",
      "Set after attempting to remove elements while iterating: {3, 4, 5, 6, 7, 8, 9, 10}\n",
      "Set after attempting to remove elements while iterating: {4, 5, 6, 7, 8, 9, 10}\n",
      "Set after attempting to remove elements while iterating: {5, 6, 7, 8, 9, 10}\n",
      "Set after attempting to remove elements while iterating: {6, 7, 8, 9, 10}\n",
      "Set after attempting to remove elements while iterating: {7, 8, 9, 10}\n",
      "Set after attempting to remove elements while iterating: {8, 9, 10}\n",
      "Set after attempting to remove elements while iterating: {9, 10}\n",
      "Set after attempting to remove elements while iterating: {10}\n",
      "Set after attempting to remove elements while iterating: set()\n"
     ]
    }
   ],
   "source": [
    "set9 = set(range(1, 11))\n",
    "while set9:\n",
    "    set9.pop()\n",
    "    print(\"Set after attempting to remove elements while iterating:\", set9)"
   ]
  },
  {
   "cell_type": "markdown",
   "id": "d434fc53",
   "metadata": {},
   "source": [
    "### Assignment 13: Set Symmetric Difference Update\n",
    "\n",
    "Create two sets and update the first set with the symmetric difference of the two sets. Print the modified first set.\n"
   ]
  },
  {
   "cell_type": "code",
   "execution_count": 13,
   "id": "f060bffb",
   "metadata": {},
   "outputs": [
    {
     "name": "stdout",
     "output_type": "stream",
     "text": [
      "Symmetric difference between set_a and set_b: {1, 2, 4, 5}\n"
     ]
    }
   ],
   "source": [
    "set_a = {1, 2, 3}\n",
    "set_b = {3, 4, 5}   \n",
    "symmetric_diff = set_a.symmetric_difference(set_b)\n",
    "print(\"Symmetric difference between set_a and set_b:\", symmetric_diff)"
   ]
  },
  {
   "cell_type": "markdown",
   "id": "b9ce9950",
   "metadata": {},
   "source": [
    "### Assignment 14: Set Membership Testing\n",
    "\n",
    "Create a set and test if certain elements are present in the set. Print the results.\n"
   ]
  },
  {
   "cell_type": "code",
   "execution_count": 19,
   "id": "c7f17fbd",
   "metadata": {},
   "outputs": [
    {
     "name": "stdout",
     "output_type": "stream",
     "text": [
      "True\n",
      "True\n"
     ]
    },
    {
     "data": {
      "text/plain": [
       "{1, 2, 3, 4, 5, 6, 7, 8, 9, 10}"
      ]
     },
     "execution_count": 19,
     "metadata": {},
     "output_type": "execute_result"
    }
   ],
   "source": [
    "set_c = set(range(1, 11))\n",
    "print(3 in set_c)\n",
    "print(6 in set_c)\n",
    "set_c"
   ]
  },
  {
   "cell_type": "markdown",
   "metadata": {},
   "source": [
    "### Assignment 15: Set of Tuples\n",
    "\n",
    "Create a set containing tuples, where each tuple contains two elements. Print the set."
   ]
  },
  {
   "cell_type": "code",
   "execution_count": 20,
   "id": "7caa3ec6",
   "metadata": {},
   "outputs": [
    {
     "name": "stdout",
     "output_type": "stream",
     "text": [
      "Set with tuples as elements: {(1, 2), (3, 4), (5, 6)}\n"
     ]
    }
   ],
   "source": [
    "set_tuple = {(1, 2), (3, 4), (5, 6)}\n",
    "print(\"Set with tuples as elements:\", set_tuple)"
   ]
  }
 ],
 "metadata": {
  "kernelspec": {
   "display_name": "bootcamp",
   "language": "python",
   "name": "python3"
  },
  "language_info": {
   "codemirror_mode": {
    "name": "ipython",
    "version": 3
   },
   "file_extension": ".py",
   "mimetype": "text/x-python",
   "name": "python",
   "nbconvert_exporter": "python",
   "pygments_lexer": "ipython3",
   "version": "3.12.11"
  }
 },
 "nbformat": 4,
 "nbformat_minor": 5
}
