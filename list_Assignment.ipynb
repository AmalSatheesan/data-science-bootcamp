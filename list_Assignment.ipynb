{
 "cells": [
  {
   "cell_type": "markdown",
   "metadata": {},
   "source": [
    "# Module 3: Data Structures Assignments\n"
   ]
  },
  {
   "cell_type": "markdown",
   "id": "91c437ca",
   "metadata": {},
   "source": [
    "## Lesson 3.1: Lists\n",
    "### Assignment 1: Creating and Accessing Lists\n",
    "\n",
    "Create a list of the first 20 positive integers. Print the list."
   ]
  },
  {
   "cell_type": "code",
   "execution_count": 1,
   "metadata": {},
   "outputs": [
    {
     "data": {
      "text/plain": [
       "[1, 2, 3, 4, 5, 6, 7, 8, 9, 10, 11, 12, 13, 14, 15, 16, 17, 18, 19, 20]"
      ]
     },
     "execution_count": 1,
     "metadata": {},
     "output_type": "execute_result"
    }
   ],
   "source": [
    "lst = []\n",
    "for i in range(1,21):\n",
    "    lst.append(i)\n",
    "lst"
   ]
  },
  {
   "cell_type": "markdown",
   "id": "72e1974e",
   "metadata": {},
   "source": [
    "### Assignment 2: Accessing List Elements\n",
    "\n",
    "Print the first, middle, and last elements of the list created in Assignment 1."
   ]
  },
  {
   "cell_type": "code",
   "execution_count": 4,
   "id": "96eb807d",
   "metadata": {},
   "outputs": [
    {
     "name": "stdout",
     "output_type": "stream",
     "text": [
      "First Element:  1\n",
      "Middle element:  11\n",
      "lats element:  20\n"
     ]
    }
   ],
   "source": [
    "print(\"First Element: \",lst[0])\n",
    "print(\"Middle element: \",lst[len(lst)//2])\n",
    "print(\"lats element: \",lst[-1])"
   ]
  },
  {
   "cell_type": "markdown",
   "id": "08c224ab",
   "metadata": {},
   "source": [
    "\n",
    "### Assignment 3: List Slicing\n",
    "\n",
    "Print the first five elements, the last five elements, and the elements from index 5 to 15 of the list created in Assignment 1."
   ]
  },
  {
   "cell_type": "code",
   "execution_count": 7,
   "id": "a64133c7",
   "metadata": {},
   "outputs": [
    {
     "name": "stdout",
     "output_type": "stream",
     "text": [
      "First five elements: [1, 2, 3, 4, 5]\n",
      "Last five elements: [16, 17, 18, 19, 20]\n",
      "Index 5 to 15 elements: [6, 7, 8, 9, 10, 11, 12, 13, 14, 15, 16]\n"
     ]
    }
   ],
   "source": [
    "print(\"First five elements:\",lst[:5])\n",
    "print(\"Last five elements:\",lst[-5:])\n",
    "print(\"Index 5 to 15 elements:\",lst[5:16])"
   ]
  },
  {
   "cell_type": "markdown",
   "id": "3edc3183",
   "metadata": {},
   "source": [
    "### Assignment 4: List Comprehensions\n",
    "\n",
    "Create a new list containing the squares of the first 10 positive integers using a list comprehension. Print the new list."
   ]
  },
  {
   "cell_type": "code",
   "execution_count": 8,
   "id": "92d9c3c5",
   "metadata": {},
   "outputs": [
    {
     "data": {
      "text/plain": [
       "[1, 4, 9, 16, 25, 36, 49, 64, 81, 100]"
      ]
     },
     "execution_count": 8,
     "metadata": {},
     "output_type": "execute_result"
    }
   ],
   "source": [
    "[x **2 for x in range(1,11)]"
   ]
  },
  {
   "cell_type": "markdown",
   "id": "b0b38560",
   "metadata": {},
   "source": [
    "### Assignment 5: Filtering Lists\n",
    "\n",
    "Create a new list containing only the even numbers from the list created in Assignment 1 using a list comprehension. Print the new list."
   ]
  },
  {
   "cell_type": "code",
   "execution_count": 10,
   "id": "8a8eadff",
   "metadata": {},
   "outputs": [
    {
     "name": "stdout",
     "output_type": "stream",
     "text": [
      "[2, 4, 6, 8, 10, 12, 14, 16, 18, 20]\n"
     ]
    }
   ],
   "source": [
    "lst2 = [x for x in lst if x%2 ==0]\n",
    "print(lst2)"
   ]
  },
  {
   "cell_type": "markdown",
   "id": "b55e089f",
   "metadata": {},
   "source": [
    "### Assignment 6: List Methods\n",
    "\n",
    "Create a list of random numbers and sort it in ascending and descending order. Remove the duplicates from the list and print the modified list."
   ]
  },
  {
   "cell_type": "code",
   "execution_count": 17,
   "id": "cbb4d545",
   "metadata": {},
   "outputs": [
    {
     "name": "stdout",
     "output_type": "stream",
     "text": [
      "List sorted in Ascending order [3, 3, 4, 6, 7, 7, 9, 9, 11, 11, 12, 12, 18, 19, 20]\n",
      "List sorted in Descending order [20, 19, 18, 12, 12, 11, 11, 9, 9, 7, 7, 6, 4, 3, 3]\n",
      "List without duplicates [3, 4, 6, 7, 9, 11, 12, 18, 19, 20]\n"
     ]
    }
   ],
   "source": [
    "import random\n",
    "\n",
    "random_num = [random.randint(1,20) for _ in range(15)]\n",
    "\n",
    "print(\"List sorted in Ascending order\",sorted(random_num))\n",
    "\n",
    "print(\"List sorted in Descending order\",sorted(random_num, reverse=True))\n",
    "\n",
    "print(\"List without duplicates\",list(set(random_num)))"
   ]
  },
  {
   "cell_type": "markdown",
   "id": "573cd891",
   "metadata": {},
   "source": [
    "### Assignment 7: Nested Lists\n",
    "\n",
    "Create a nested list representing a 3x3 matrix and print the matrix. Access and print the element at the second row and third column."
   ]
  },
  {
   "cell_type": "code",
   "execution_count": 23,
   "id": "b9c92797",
   "metadata": {},
   "outputs": [
    {
     "name": "stdout",
     "output_type": "stream",
     "text": [
      "[1, 2, 3]\n",
      "[4, 5, 6]\n",
      "[7, 8, 9]\n",
      "Second row third element: 6\n"
     ]
    }
   ],
   "source": [
    "matrix = [[1,2,3],[4,5,6],[7,8,9]]\n",
    "for row in matrix:\n",
    "    print(row)       \n",
    "print(\"Second row third element:\",matrix[1][2])"
   ]
  },
  {
   "cell_type": "markdown",
   "id": "bc7eb697",
   "metadata": {},
   "source": [
    "### Assignment 8: List of Dictionaries\n",
    "\n",
    "Create a list of dictionaries where each dictionary represents a student with keys 'name' and 'score'. Sort the list of dictionaries by the 'score' in descending order and print the sorted list.\n"
   ]
  },
  {
   "cell_type": "code",
   "execution_count": 24,
   "id": "c069ebd6",
   "metadata": {},
   "outputs": [
    {
     "name": "stdout",
     "output_type": "stream",
     "text": [
      "Sorted Students by Score in Descending Order:\n",
      "Name: Alice, Score: 92\n",
      "Name: Jane, Score: 90\n",
      "Name: Bob, Score: 88\n",
      "Name: John, Score: 85\n",
      "Name: Doe, Score: 78\n"
     ]
    }
   ],
   "source": [
    "Student = [\n",
    "    {\"name\": \"John\", \"Score\": 85},\n",
    "    {\"name\": \"Jane\", \"Score\": 90},\n",
    "    {\"name\": \"Doe\", \"Score\": 78},\n",
    "    {\"name\": \"Alice\", \"Score\": 92},\n",
    "    {\"name\": \"Bob\", \"Score\": 88}\n",
    "]\n",
    "\n",
    "sorted_students = sorted(Student, key=lambda x: x[\"Score\"], reverse=True)\n",
    "print(\"Sorted Students by Score in Descending Order:\")\n",
    "for student in sorted_students:\n",
    "    print(f\"Name: {student['name']}, Score: {student['Score']}\")"
   ]
  },
  {
   "cell_type": "markdown",
   "id": "9d307b23",
   "metadata": {},
   "source": [
    "### Assignment 9: Matrix Transposition\n",
    "\n",
    "Write a function that takes a 3x3 matrix (nested list) as input and returns its transpose. Print the original and transposed matrices."
   ]
  },
  {
   "cell_type": "code",
   "execution_count": 3,
   "id": "2fdea64b",
   "metadata": {},
   "outputs": [
    {
     "name": "stdout",
     "output_type": "stream",
     "text": [
      "Original Matrix:\n",
      "[1, 2, 3]\n",
      "[4, 5, 6]\n",
      "[7, 8, 9]\n",
      "Transposed Matrix:\n",
      "[1, 4, 7]\n",
      "[2, 5, 8]\n",
      "[3, 6, 9]\n"
     ]
    }
   ],
   "source": [
    "def transpose_matrix(matrix):\n",
    "    return [[row[i] for row in matrix] for i in range(len(matrix[0]))] \n",
    "\n",
    "matrix = [[1, 2, 3], [4, 5, 6], [7, 8, 9]]\n",
    "transposed = transpose_matrix(matrix)\n",
    "print(\"Original Matrix:\")  \n",
    "for row in matrix:\n",
    "    print(row)  \n",
    "print(\"Transposed Matrix:\")\n",
    "for row in transposed:\n",
    "    print(row) "
   ]
  },
  {
   "cell_type": "markdown",
   "id": "945a2efc",
   "metadata": {},
   "source": [
    "### Assignment 10: Flattening a Nested List\n",
    "\n",
    "Write a function that takes a nested list and flattens it into a single list. Print the original and flattened lists."
   ]
  },
  {
   "cell_type": "code",
   "execution_count": 1,
   "id": "35437530",
   "metadata": {},
   "outputs": [
    {
     "name": "stdout",
     "output_type": "stream",
     "text": [
      "Original Nested List: [1, [2, 3], [4, [5, 6]], 7]\n",
      "Flattened List: [1, 2, 3, 4, 5, 6, 7]\n"
     ]
    }
   ],
   "source": [
    "def flatten(nested_list):\n",
    "    flat_list = []\n",
    "    for sublist in nested_list:\n",
    "        if isinstance(sublist, list):\n",
    "            flat_list.extend(flatten(sublist))\n",
    "        else:\n",
    "            flat_list.append(sublist) \n",
    "    return flat_list\n",
    "\n",
    "nested_list = [1, [2, 3], [4, [5, 6]], 7]\n",
    "flattened_list = flatten(nested_list)\n",
    "print(\"Original Nested List:\", nested_list)\n",
    "print(\"Flattened List:\", flattened_list)"
   ]
  },
  {
   "cell_type": "markdown",
   "id": "910e591f",
   "metadata": {},
   "source": [
    "### Assignment 11: List Manipulation\n",
    "\n",
    "Create a list of the first 10 positive integers. Remove the elements at indices 2, 4, and 6, and insert the element '99' at index 5. Print the modified list."
   ]
  },
  {
   "cell_type": "code",
   "execution_count": 10,
   "id": "0e633c78",
   "metadata": {},
   "outputs": [
    {
     "name": "stdout",
     "output_type": "stream",
     "text": [
      "Original List: [1, 2, 3, 4, 5, 6, 7, 8, 9, 10]\n",
      "List after deletions: [1, 2, 4, 6, 8, 9, 10]\n",
      "List after inserting 99 at index 5: [1, 2, 4, 6, 8, 99, 9, 10]\n"
     ]
    }
   ],
   "source": [
    "lst = list(range(1, 11))\n",
    "print(\"Original List:\", lst)\n",
    "del lst[6]\n",
    "del lst[4]\n",
    "del lst[2]\n",
    "print(\"List after deletions:\", lst) \n",
    "\n",
    "lst.insert(5,99)\n",
    "print(\"List after inserting 99 at index 5:\", lst)\n"
   ]
  },
  {
   "cell_type": "markdown",
   "id": "e4d200cf",
   "metadata": {},
   "source": [
    "### Assignment 12: List Zipping\n",
    "\n",
    "Create two lists of the same length. Use the `zip` function to combine these lists into a list of tuples and print the result."
   ]
  },
  {
   "cell_type": "code",
   "execution_count": null,
   "id": "7ee8a85a",
   "metadata": {},
   "outputs": [
    {
     "name": "stdout",
     "output_type": "stream",
     "text": [
      "<class 'zip'>\n",
      "<zip object at 0x000001AE437B7500>\n",
      "Zipped List: [(1, 11), (2, 12), (3, 13), (4, 14), (5, 15), (6, 16), (7, 17), (8, 18), (9, 19), (10, 20)]\n",
      "[]\n"
     ]
    }
   ],
   "source": [
    "lst1 = [1, 2, 3, 4, 5, 6, 7, 8, 9, 10]\n",
    "lst2 = [11, 12, 13, 14, 15, 16, 17, 18, 19, 20]\n",
    "lst3 = list(zip(lst1, lst2))\n",
    "print(type(lst3))\n",
    "print(lst3)\n",
    "print(\"Zipped List:\", list(lst3))\n",
    "print(list(lst3))\n",
    "\n"
   ]
  },
  {
   "cell_type": "markdown",
   "id": "502d9f79",
   "metadata": {},
   "source": [
    "### Assignment 13: List Reversal\n",
    "\n",
    "Write a function that takes a list and returns a new list with the elements in reverse order. Print the original and reversed lists."
   ]
  },
  {
   "cell_type": "code",
   "execution_count": 16,
   "id": "affc71b3",
   "metadata": {},
   "outputs": [
    {
     "name": "stdout",
     "output_type": "stream",
     "text": [
      "Original List: [1, 2, 3, 4, 5]\n",
      "Reversed List: [5, 4, 3, 2, 1]\n"
     ]
    }
   ],
   "source": [
    "def list_reversal(lst):\n",
    "    return lst[::-1]\n",
    "lst = [1, 2, 3, 4, 5]\n",
    "reversed_list = list_reversal(lst)\n",
    "print(\"Original List:\", lst)\n",
    "print(\"Reversed List:\", reversed_list)"
   ]
  },
  {
   "cell_type": "markdown",
   "id": "b2ef125b",
   "metadata": {},
   "source": [
    "### Assignment 14: List Rotation\n",
    "\n",
    "Write a function that rotates a list by n positions. Print the original and rotated lists."
   ]
  },
  {
   "cell_type": "code",
   "execution_count": 19,
   "id": "17f033a2",
   "metadata": {},
   "outputs": [
    {
     "name": "stdout",
     "output_type": "stream",
     "text": [
      "Original List: [1, 2, 3, 4, 5]\n",
      "Rotated List by 2 positions: [3, 4, 5, 1, 2]\n"
     ]
    }
   ],
   "source": [
    "def list_rotation(lst, k):\n",
    "    n = len(lst)\n",
    "    k = k % n\n",
    "    return lst[k:] + lst[:k]\n",
    "lst = [1, 2, 3, 4, 5]\n",
    "k = 2\n",
    "rotated_list = list_rotation(lst, k)\n",
    "print(\"Original List:\", lst)\n",
    "print(\"Rotated List by\", k, \"positions:\", rotated_list)"
   ]
  },
  {
   "cell_type": "markdown",
   "id": "2db504d6",
   "metadata": {},
   "source": [
    "### Assignment 15: List Intersection\n",
    "\n",
    "Write a function that takes two lists and returns a new list containing only the elements that are present in both lists. Print the intersected list."
   ]
  },
  {
   "cell_type": "code",
   "execution_count": null,
   "id": "d4e8c028",
   "metadata": {},
   "outputs": [],
   "source": []
  }
 ],
 "metadata": {
  "kernelspec": {
   "display_name": "bootcamp",
   "language": "python",
   "name": "python3"
  },
  "language_info": {
   "codemirror_mode": {
    "name": "ipython",
    "version": 3
   },
   "file_extension": ".py",
   "mimetype": "text/x-python",
   "name": "python",
   "nbconvert_exporter": "python",
   "pygments_lexer": "ipython3",
   "version": "3.12.11"
  }
 },
 "nbformat": 4,
 "nbformat_minor": 5
}
