{
 "cells": [
  {
   "cell_type": "markdown",
   "id": "6cade624",
   "metadata": {},
   "source": [
    "# Module 3: Data Structures Assignments\n",
    "## Lesson 3.2: Tuples\n"
   ]
  },
  {
   "cell_type": "markdown",
   "id": "2cca783e",
   "metadata": {},
   "source": [
    "### Assignment 1: Creating and Accessing Tuples\n",
    "\n",
    "Create a tuple with the first 10 positive integers. Print the tuple.\n"
   ]
  },
  {
   "cell_type": "code",
   "execution_count": 2,
   "id": "a684b919",
   "metadata": {},
   "outputs": [
    {
     "name": "stdout",
     "output_type": "stream",
     "text": [
      "(1, 2, 3, 4, 5, 6, 7, 8, 9, 10)\n"
     ]
    }
   ],
   "source": [
    "samp_tuple = tuple(range(1,11))\n",
    "print(samp_tuple)"
   ]
  },
  {
   "cell_type": "markdown",
   "id": "f04b6ba9",
   "metadata": {},
   "source": [
    "### Assignment 2: Accessing Tuple Elements\n",
    "\n",
    "Print the first, middle, and last elements of the tuple created in Assignment 1."
   ]
  },
  {
   "cell_type": "code",
   "execution_count": 3,
   "id": "18d11cbd",
   "metadata": {},
   "outputs": [
    {
     "name": "stdout",
     "output_type": "stream",
     "text": [
      "1\n",
      "10\n",
      "6\n"
     ]
    }
   ],
   "source": [
    "print(samp_tuple[0])  # Accessing the first element\n",
    "print(samp_tuple[-1])  # Accessing the last element\n",
    "print(samp_tuple[len(samp_tuple)//2])  # Accessing the middle element"
   ]
  },
  {
   "cell_type": "markdown",
   "id": "90cf62db",
   "metadata": {},
   "source": [
    "### Assignment 3: Tuple Slicing\n",
    "\n",
    "Print the first three elements, the last three elements, and the elements from index 2 to 5 of the tuple created in Assignment 1."
   ]
  },
  {
   "cell_type": "code",
   "execution_count": 4,
   "id": "3b7999b1",
   "metadata": {},
   "outputs": [
    {
     "name": "stdout",
     "output_type": "stream",
     "text": [
      "(1, 2, 3)\n",
      "(4, 5, 6, 7, 8, 9, 10)\n",
      "(3, 4, 5, 6)\n"
     ]
    }
   ],
   "source": [
    "print(samp_tuple[0:3])  # Slicing the first three elements\n",
    "print(samp_tuple[3:])   \n",
    "print(samp_tuple[2:6])    "
   ]
  },
  {
   "cell_type": "markdown",
   "id": "a77f1a41",
   "metadata": {},
   "source": [
    "\n",
    "### Assignment 4: Nested Tuples\n",
    "\n",
    "Create a nested tuple representing a 3x3 matrix and print the matrix. Access and print the element at the second row and third column."
   ]
  },
  {
   "cell_type": "code",
   "execution_count": 6,
   "id": "b423362a",
   "metadata": {},
   "outputs": [
    {
     "name": "stdout",
     "output_type": "stream",
     "text": [
      "Matrix:\n",
      "(1, 2, 3)\n",
      "(4, 5, 6)\n",
      "(7, 8, 9)\n",
      "Second row third element: 6\n"
     ]
    }
   ],
   "source": [
    "tupl = (\n",
    "    (1,2,3),\n",
    "    (4,5,6),\n",
    "    (7,8,9)\n",
    ")\n",
    "print(\"Matrix:\")\n",
    "for row in tupl:\n",
    "    print(row)\n",
    "print(\"Second row third element:\", tupl[1][2])  # Accessing the second row's third element"
   ]
  },
  {
   "cell_type": "markdown",
   "id": "e51b8769",
   "metadata": {},
   "source": [
    "### Assignment 5: Tuple Concatenation\n",
    "\n",
    "Concatenate two tuples: (1, 2, 3) and (4, 5, 6). Print the resulting tuple."
   ]
  },
  {
   "cell_type": "code",
   "execution_count": 7,
   "id": "70e573d5",
   "metadata": {},
   "outputs": [
    {
     "name": "stdout",
     "output_type": "stream",
     "text": [
      "Concatenated Tuple: (1, 2, 3, 4, 5, 6)\n"
     ]
    }
   ],
   "source": [
    "tupl1 = (1, 2, 3)\n",
    "tupl2 = (4, 5, 6)\n",
    "tupl3 = tupl1 + tupl2  # Concatenating tuples\n",
    "print(\"Concatenated Tuple:\", tupl3)"
   ]
  },
  {
   "cell_type": "markdown",
   "id": "62e5e0aa",
   "metadata": {},
   "source": [
    "### Assignment 6: Tuple Methods\n",
    "\n",
    "Create a tuple with duplicate elements and count the occurrences of an element. Find the index of the first occurrence of an element in the tuple."
   ]
  },
  {
   "cell_type": "code",
   "execution_count": 8,
   "id": "97eb6289",
   "metadata": {},
   "outputs": [
    {
     "name": "stdout",
     "output_type": "stream",
     "text": [
      "Tuple with duplicates: (1, 2, 3, 1, 2, 3)\n",
      "Count of 1 in tuple: 2\n",
      "Index of 2 in tuple: 1\n",
      "Length of tuple: 6\n"
     ]
    }
   ],
   "source": [
    "tupl_dupl = (1, 2, 3, 1, 2, 3)\n",
    "print(\"Tuple with duplicates:\", tupl_dupl)\n",
    "print(\"Count of 1 in tuple:\", tupl_dupl.count(1))\n",
    "print(\"Index of 2 in tuple:\", tupl_dupl.index(2))  # Finding the index of the first occurrence of 2\n",
    "print(\"Length of tuple:\", len(tupl_dupl))"
   ]
  },
  {
   "cell_type": "markdown",
   "id": "aca6c04f",
   "metadata": {},
   "source": [
    "### Assignment 7: Unpacking Tuples\n",
    "\n",
    "Create a tuple with 5 elements and unpack it into 5 variables. Print the variables."
   ]
  },
  {
   "cell_type": "code",
   "execution_count": 10,
   "id": "4519b858",
   "metadata": {},
   "outputs": [
    {
     "name": "stdout",
     "output_type": "stream",
     "text": [
      "Unpacked values: 1 2 3 4 5\n"
     ]
    }
   ],
   "source": [
    "tupl_5 = (1, 2, 3, 4, 5)\n",
    "a, b, c, d, e = tupl_5  # Tuple unpacking\n",
    "print(\"Unpacked values:\", a, b, c, d, e)\n"
   ]
  },
  {
   "cell_type": "markdown",
   "id": "32cf3ba4",
   "metadata": {},
   "source": [
    "### Assignment 8: Tuple Conversion\n",
    "\n",
    "Convert a list of the first 5 positive integers to a tuple. Print the tuple."
   ]
  },
  {
   "cell_type": "code",
   "execution_count": 14,
   "id": "227cb401",
   "metadata": {},
   "outputs": [
    {
     "name": "stdout",
     "output_type": "stream",
     "text": [
      "Tuple created from range: (1, 2, 3, 4, 5)\n"
     ]
    }
   ],
   "source": [
    "tupl6= tuple(list(range(1,6)))\n",
    "print(\"Tuple created from range:\", tupl6)"
   ]
  },
  {
   "cell_type": "markdown",
   "id": "d1502b2f",
   "metadata": {},
   "source": [
    "\n",
    "### Assignment 9: Tuple of Tuples\n",
    "\n",
    "Create a tuple containing 3 tuples, each with 3 elements. Print the tuple of tuples."
   ]
  },
  {
   "cell_type": "code",
   "execution_count": 15,
   "id": "d5b4adaa",
   "metadata": {},
   "outputs": [
    {
     "name": "stdout",
     "output_type": "stream",
     "text": [
      "((1, 2, 3), (4, 5, 6), (7, 8, 9))\n"
     ]
    }
   ],
   "source": [
    "tupl_1 = (\n",
    "    (1, 2, 3),\n",
    "    (4, 5, 6),\n",
    "    (7, 8, 9)\n",
    ")\n",
    "print(tupl_1)"
   ]
  },
  {
   "cell_type": "markdown",
   "id": "3c462b48",
   "metadata": {},
   "source": [
    "\n",
    "### Assignment 10: Tuple and List\n",
    "\n",
    "Create a tuple with the first 5 positive integers. Convert it to a list, append the number 6, and convert it back to a tuple. Print the resulting tuple."
   ]
  },
  {
   "cell_type": "code",
   "execution_count": 16,
   "id": "055e59e1",
   "metadata": {},
   "outputs": [
    {
     "name": "stdout",
     "output_type": "stream",
     "text": [
      "Modified tuple: (1, 2, 3, 4, 5, 6)\n"
     ]
    }
   ],
   "source": [
    "tup = (1, 2, 3, 4, 5)\n",
    "tup_list = list(tup)  # Converting tuple to list\n",
    "tup_list.append(6)  # Modifying the list\n",
    "tup = tuple(tup_list) \n",
    "print(\"Modified tuple:\", tup)  # Converting back to tuple"
   ]
  },
  {
   "cell_type": "markdown",
   "id": "670be18d",
   "metadata": {},
   "source": [
    "### Assignment 11: Tuple and String\n",
    "\n",
    "Create a tuple with the characters of a string. Join the tuple elements into a single string. Print the string."
   ]
  },
  {
   "cell_type": "code",
   "execution_count": null,
   "id": "1a1f5f56",
   "metadata": {},
   "outputs": [],
   "source": []
  },
  {
   "cell_type": "markdown",
   "id": "78f6bb5a",
   "metadata": {},
   "source": [
    "### Assignment 12: Tuple and Dictionary\n",
    "\n",
    "Create a dictionary with tuple keys and integer values. Print the dictionary."
   ]
  },
  {
   "cell_type": "code",
   "execution_count": null,
   "id": "59d4a5d9",
   "metadata": {},
   "outputs": [],
   "source": []
  },
  {
   "cell_type": "markdown",
   "id": "29a9bf3e",
   "metadata": {},
   "source": [
    "### Assignment 13: Nested Tuple Iteration\n",
    "\n",
    "Create a nested tuple and iterate over the elements, printing each element."
   ]
  },
  {
   "cell_type": "code",
   "execution_count": null,
   "id": "a02210aa",
   "metadata": {},
   "outputs": [],
   "source": []
  },
  {
   "cell_type": "markdown",
   "id": "71020bb9",
   "metadata": {},
   "source": [
    "### Assignment 14: Tuple and Set\n",
    "\n",
    "Create a tuple with duplicate elements. Convert it to a set to remove duplicates and print the resulting set."
   ]
  },
  {
   "cell_type": "code",
   "execution_count": null,
   "id": "5988c64a",
   "metadata": {},
   "outputs": [],
   "source": []
  },
  {
   "cell_type": "markdown",
   "id": "a0705d4c",
   "metadata": {},
   "source": [
    "### Assignment 15: Tuple Functions\n",
    "\n",
    "Write functions that take a tuple and return the minimum, maximum, and sum of the elements. Print the results for a sample tuple."
   ]
  },
  {
   "cell_type": "code",
   "execution_count": null,
   "id": "e03d79f4",
   "metadata": {},
   "outputs": [],
   "source": []
  }
 ],
 "metadata": {
  "kernelspec": {
   "display_name": "bootcamp",
   "language": "python",
   "name": "python3"
  },
  "language_info": {
   "codemirror_mode": {
    "name": "ipython",
    "version": 3
   },
   "file_extension": ".py",
   "mimetype": "text/x-python",
   "name": "python",
   "nbconvert_exporter": "python",
   "pygments_lexer": "ipython3",
   "version": "3.12.11"
  }
 },
 "nbformat": 4,
 "nbformat_minor": 5
}
