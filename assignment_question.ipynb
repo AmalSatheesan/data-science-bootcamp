{
 "cells": [
  {
   "cell_type": "markdown",
   "metadata": {},
   "source": [
    "# Lesson 1.2: Python Basics\n",
    "## Topics Covered:\n",
    "- Syntax and Semantics\n",
    "- Variables and Data Types\n",
    "- Basic Operators (Arithmetic, Comparison, Logical)\n"
   ]
  },
  {
   "cell_type": "markdown",
   "metadata": {},
   "source": [
    "## 1. Syntax and Semantics\n",
    "\n",
    "**Question 1:** Write a Python program to print \"Hello, World!\"."
   ]
  },
  {
   "cell_type": "code",
   "execution_count": 1,
   "metadata": {},
   "outputs": [
    {
     "name": "stdout",
     "output_type": "stream",
     "text": [
      "Hello, World!\n"
     ]
    }
   ],
   "source": [
    "# Your code here\n",
    "print(\"Hello, World!\")"
   ]
  },
  {
   "cell_type": "markdown",
   "metadata": {},
   "source": [
    "**Question 2:** Write a Python program that takes a user input and prints it."
   ]
  },
  {
   "cell_type": "code",
   "execution_count": 3,
   "metadata": {},
   "outputs": [
    {
     "name": "stdout",
     "output_type": "stream",
     "text": [
      "You entered: 1\n"
     ]
    }
   ],
   "source": [
    "# Your code here\n",
    "x = input(\"Enter something: \")\n",
    "print(f\"You entered: {x}\")"
   ]
  },
  {
   "cell_type": "code",
   "execution_count": 4,
   "metadata": {},
   "outputs": [
    {
     "name": "stdout",
     "output_type": "stream",
     "text": [
      "The type of the input is: <class 'str'>\n"
     ]
    }
   ],
   "source": [
    "type = type(x)\n",
    "print(f\"The type of the input is: {type}\")"
   ]
  },
  {
   "cell_type": "markdown",
   "metadata": {},
   "source": [
    "**Question 3:** Write a Python program to check if a number is positive, negative, or zero."
   ]
  },
  {
   "cell_type": "code",
   "execution_count": null,
   "metadata": {},
   "outputs": [
    {
     "name": "stdout",
     "output_type": "stream",
     "text": [
      "The number 6.0 is Positive\n"
     ]
    }
   ],
   "source": [
    "# Your code here\n",
    "num = float(input(\"Enter a number:\"))\n",
    "\n",
    "if num > 0:\n",
    "    print(f\"The number {num} is Positive\")\n",
    "elif num< 0:\n",
    "    print(f\"The number {num} is Negative\")    \n",
    "else:\n",
    "    print(f\"The number {num} is Neither positive nor negative\")\n"
   ]
  },
  {
   "cell_type": "markdown",
   "metadata": {},
   "source": [
    "**Question 4:** Write a Python program to find the largest of three numbers."
   ]
  },
  {
   "cell_type": "code",
   "execution_count": 13,
   "metadata": {},
   "outputs": [
    {
     "name": "stdout",
     "output_type": "stream",
     "text": [
      "3.0 is the largest num\n"
     ]
    }
   ],
   "source": [
    "# Your code here\n",
    "x = float(input(\"Enter num 1:\"))\n",
    "y = float(input(\"Enter num 2:\"))\n",
    "z = float(input(\"Enter num 3:\"))\n",
    "\n",
    "if x>y:\n",
    "    if x>z:\n",
    "        print(f\"{x} is the largest num\")\n",
    "    else:\n",
    "        print(f\"{z} is the largest num\")\n",
    "elif y>z:\n",
    "    print(f\"{y} is the largest num\")\n",
    "else:\n",
    "    print(f\"{z} is the largest num\")\n",
    "    \n",
    "    "
   ]
  },
  {
   "cell_type": "code",
   "execution_count": 15,
   "metadata": {},
   "outputs": [
    {
     "name": "stdout",
     "output_type": "stream",
     "text": [
      "3.0 is the largest number\n"
     ]
    }
   ],
   "source": [
    "if x == y == z:\n",
    "    print(\"All numbers are equal.\")\n",
    "elif x >= y and x >= z:\n",
    "    print(f\"{x} is the largest number\")\n",
    "elif y >= z:\n",
    "    print(f\"{y} is the largest number\")\n",
    "else:\n",
    "    print(f\"{z} is the largest number\")\n"
   ]
  },
  {
   "cell_type": "markdown",
   "metadata": {},
   "source": [
    "**Question 5:** Write a Python program to calculate the factorial of a number."
   ]
  },
  {
   "cell_type": "code",
   "execution_count": 16,
   "metadata": {},
   "outputs": [
    {
     "name": "stdout",
     "output_type": "stream",
     "text": [
      "The factorial of 5 is 120\n"
     ]
    }
   ],
   "source": [
    "# Your code here\n",
    "def factorial(n):\n",
    "    if n==0 or n==1:\n",
    "        return 1\n",
    "    else:\n",
    "        return n*factorial(n-1)\n",
    "num = int(input(\"Enter a number to calculate its factorial: \"))\n",
    "print(f\"The factorial of {num} is {factorial(num)}\")\n"
   ]
  },
  {
   "cell_type": "markdown",
   "metadata": {},
   "source": [
    "## 2. Variables and Data Types\n",
    "\n",
    "**Question 6:** Create variables of different data types: integer, float, string, and boolean. Print their values and types."
   ]
  },
  {
   "cell_type": "code",
   "execution_count": 18,
   "metadata": {},
   "outputs": [
    {
     "name": "stdout",
     "output_type": "stream",
     "text": [
      "Integer: 10, Float: 10.5, String: Hello, Boolean: True\n",
      "Type of Integer: <class 'int'>, Type of Float: <class 'float'>, Type of String: <class 'str'>, Type of Boolean: <class 'bool'>\n"
     ]
    }
   ],
   "source": [
    "# Your code here\n",
    "int_var = 10\n",
    "float_var = 10.5\n",
    "str_var = \"Hello\"\n",
    "bool_var = True\n",
    "\n",
    "print(f\"Integer: {int_var}, Float: {float_var}, String: {str_var}, Boolean: {bool_var}\")\n",
    "print(f\"Type of Integer: {type(int_var)}, Type of Float: {type(float_var)}, Type of String: {type(str_var)}, Type of Boolean: {type(bool_var)}\")\n"
   ]
  },
  {
   "cell_type": "markdown",
   "metadata": {},
   "source": [
    "**Question 7:** Write a Python program to swap the values of two variables."
   ]
  },
  {
   "cell_type": "code",
   "execution_count": null,
   "metadata": {},
   "outputs": [
    {
     "name": "stdout",
     "output_type": "stream",
     "text": [
      "Value of first variable:  7\n",
      "Value of second variable:  6\n"
     ]
    }
   ],
   "source": [
    "# Your code here\n",
    "x = input(\"Enter a first variable: \")\n",
    "y = input(\"Enter a second variable: \")\n",
    "\n",
    "temp = x\n",
    "x = y\n",
    "y = temp\n",
    "\n",
    "# x , y = y , x\n",
    "\n",
    "print(\"Value of first variable: \",x)\n",
    "print(\"Value of second variable: \",y)"
   ]
  },
  {
   "cell_type": "markdown",
   "metadata": {},
   "source": [
    "**Question 8:** Write a Python program to convert Celsius to Fahrenheit."
   ]
  },
  {
   "cell_type": "code",
   "execution_count": 24,
   "metadata": {},
   "outputs": [
    {
     "name": "stdout",
     "output_type": "stream",
     "text": [
      "Fahrenheit value is:  212.0\n"
     ]
    }
   ],
   "source": [
    "# Your code here\n",
    "def celsius_to_Fahrenheit(cel):\n",
    "    Fahrenheit = (cel * 9/5) + 32\n",
    "    return Fahrenheit\n",
    "cel = float(input(\"Enter the celsius value:\" ))\n",
    "print(\"Fahrenheit value is: \",celsius_to_Fahrenheit(cel))\n",
    "\n"
   ]
  },
  {
   "cell_type": "markdown",
   "metadata": {},
   "source": [
    "**Question 9:** Write a Python program to concatenate two strings."
   ]
  },
  {
   "cell_type": "code",
   "execution_count": 29,
   "metadata": {},
   "outputs": [
    {
     "name": "stdout",
     "output_type": "stream",
     "text": [
      "String after concatenation: hello  buddy\n"
     ]
    }
   ],
   "source": [
    "# Your code here\n",
    "str1 = input(\"Enter first string: \")\n",
    "str2 = input(\"Enter second string:\")\n",
    "\n",
    "concat = str1 + \" \" + str2\n",
    "\n",
    "print(\"String after concatenation:\",concat)"
   ]
  },
  {
   "cell_type": "markdown",
   "metadata": {},
   "source": [
    "**Question 10:** Write a Python program to check if a variable is of a specific data type."
   ]
  },
  {
   "cell_type": "code",
   "execution_count": 37,
   "metadata": {},
   "outputs": [
    {
     "name": "stdout",
     "output_type": "stream",
     "text": [
      "0 is an integer\n"
     ]
    }
   ],
   "source": [
    "# Your code here\n",
    "x = 0\n",
    "\n",
    "if isinstance(x, int):\n",
    "    print(f\"{x} is an integer\" )\n",
    "elif isinstance(x, float):\n",
    "    print(f\"{x} is a float\")\n",
    "elif isinstance(x, str):\n",
    "    print(f\"{x} is a string\")\n",
    "elif isinstance(x, bool):\n",
    "    print(f\"{x} is a boolean\")\n",
    "else :\n",
    "    print(f\"{x} is of an unknown type\")"
   ]
  },
  {
   "cell_type": "markdown",
   "metadata": {},
   "source": [
    "## 3. Basic Operators (Arithmetic, Comparison, Logical)\n",
    "\n",
    "**Question 11:** Write a Python program to perform arithmetic operations: addition, subtraction, multiplication, and division."
   ]
  },
  {
   "cell_type": "code",
   "execution_count": 39,
   "metadata": {},
   "outputs": [
    {
     "name": "stdout",
     "output_type": "stream",
     "text": [
      "Addition: 15.0\n",
      "Subtraction: 5.0\n",
      "Multiplication: 50.0\n",
      "Division: 2.0\n"
     ]
    }
   ],
   "source": [
    "# Your code here\n",
    "x = float(input(\"Enter first number: \"))\n",
    "y = float(input(\"Enter second number: \"))\n",
    "\n",
    "Addition = x + y\n",
    "Subtraction = x - y\n",
    "Multiplication = x * y\n",
    "Division = x / y if y != 0 else \"undefined (division by zero)\"\n",
    "\n",
    "print(f\"Addition: {Addition}\")\n",
    "print(f\"Subtraction: {Subtraction}\")    \n",
    "print(f\"Multiplication: {Multiplication}\") \n",
    "print(f\"Division: {Division}\")"
   ]
  },
  {
   "cell_type": "markdown",
   "metadata": {},
   "source": [
    "**Question 12:** Write a Python program to demonstrate comparison operators: equal to, not equal to, greater than, less than."
   ]
  },
  {
   "cell_type": "code",
   "execution_count": 40,
   "metadata": {},
   "outputs": [
    {
     "name": "stdout",
     "output_type": "stream",
     "text": [
      "6 is greater than 5\n"
     ]
    }
   ],
   "source": [
    "# Your code here\n",
    "a = int(input(\"Enter first number: \"))\n",
    "b = int(input(\"Enter second number: \"))\n",
    "\n",
    "if a > b:\n",
    "    print(f\"{a} is greater than {b}\")\n",
    "elif a < b:\n",
    "    print(f\"{b} is greater than {a}\")\n",
    "elif a == b:\n",
    "    print(f\"{a} is equal to {b}\")\n",
    "elif a != b:\n",
    "    print(f\"{a} is not equal to {b}\")\n",
    "else :\n",
    "    print(\"Invalid input\")"
   ]
  },
  {
   "cell_type": "markdown",
   "metadata": {},
   "source": [
    "**Question 13:** Write a Python program to demonstrate logical operators: and, or, not."
   ]
  },
  {
   "cell_type": "code",
   "execution_count": 41,
   "metadata": {},
   "outputs": [
    {
     "name": "stdout",
     "output_type": "stream",
     "text": [
      "True and False: False\n",
      "True or False: True\n",
      "not True: False\n"
     ]
    }
   ],
   "source": [
    "# Solution\n",
    "a = True\n",
    "b = False\n",
    "\n",
    "print(f\"True and False: {a and b}\")\n",
    "print(f\"True or False: {a or b}\")\n",
    "print(f\"not True: {not a}\")"
   ]
  },
  {
   "cell_type": "markdown",
   "metadata": {},
   "source": [
    "**Question 14:** Write a Python program to calculate the square of a number."
   ]
  },
  {
   "cell_type": "code",
   "execution_count": 43,
   "metadata": {},
   "outputs": [
    {
     "name": "stdout",
     "output_type": "stream",
     "text": [
      "The square of 5.5 is 30.25\n"
     ]
    }
   ],
   "source": [
    "# Your code here\n",
    "x = float(input(\"Enter a number: \"))\n",
    "print(f\"The square of {x} is {x**2}\")"
   ]
  },
  {
   "cell_type": "markdown",
   "metadata": {},
   "source": [
    "**Question 15:** Write a Python program to check if a number is even or odd."
   ]
  },
  {
   "cell_type": "code",
   "execution_count": 1,
   "metadata": {},
   "outputs": [
    {
     "name": "stdout",
     "output_type": "stream",
     "text": [
      "0 is an even number\n"
     ]
    }
   ],
   "source": [
    "# Your code here\n",
    "n = int(input(\"Enter a number: \"))\n",
    "\n",
    "if n%2==0:\n",
    "    print(f\"{n} is an even number\")\n",
    "else:\n",
    "    print(f\"{n} is an odd number\")"
   ]
  },
  {
   "cell_type": "markdown",
   "metadata": {},
   "source": [
    "**Question 16:** Write a Python program to find the sum of the first n natural numbers."
   ]
  },
  {
   "cell_type": "code",
   "execution_count": 4,
   "metadata": {},
   "outputs": [
    {
     "name": "stdout",
     "output_type": "stream",
     "text": [
      "The sum of numbers from 1 to 10 is: 55\n"
     ]
    }
   ],
   "source": [
    "# Your code here\n",
    "n = int(input(\"Enter a number: \"))\n",
    "\n",
    "\n",
    "if n==0:\n",
    "    print(\"The sum is zero\") \n",
    "else:\n",
    "    sum = n * (n + 1) // 2  # Using the formula for the sum of the first n natural numbers\n",
    "    \n",
    "    print(f\"The sum of numbers from 1 to {n} is: {sum}\")"
   ]
  },
  {
   "cell_type": "markdown",
   "metadata": {},
   "source": [
    "**Question 17:** Write a Python program to check if a year is a leap year."
   ]
  },
  {
   "cell_type": "code",
   "execution_count": 1,
   "metadata": {},
   "outputs": [
    {
     "name": "stdout",
     "output_type": "stream",
     "text": [
      "2016 is a leap year\n"
     ]
    }
   ],
   "source": [
    "# Your code here\n",
    "year = int(input(\"Enter a year: \"))\n",
    "if (year % 4 == 0 and year % 100 != 0) or (year % 400 == 0):\n",
    "    print(f\"{year} is a leap year\")\n",
    "else:\n",
    "    print(f\"{year} is not a leap year\")"
   ]
  },
  {
   "cell_type": "markdown",
   "metadata": {},
   "source": [
    "**Question 18:** Write a Python program to reverse a string."
   ]
  },
  {
   "cell_type": "code",
   "execution_count": 5,
   "metadata": {},
   "outputs": [
    {
     "name": "stdout",
     "output_type": "stream",
     "text": [
      "Reversed string:  yeh amal!!!\n"
     ]
    }
   ],
   "source": [
    "# Your code here\n",
    "str1 = input(\"Enter first string: \")\n",
    "\n",
    "reversed_str = str1[::-1]\n",
    "print(f\"Reversed string: {reversed_str}\")\n"
   ]
  },
  {
   "cell_type": "markdown",
   "metadata": {},
   "source": [
    "**Question 19:** Write a Python program to check if a string is a palindrome."
   ]
  },
  {
   "cell_type": "code",
   "execution_count": 6,
   "metadata": {},
   "outputs": [
    {
     "name": "stdout",
     "output_type": "stream",
     "text": [
      "ama is a palindrome\n"
     ]
    }
   ],
   "source": [
    "# Your code here\n",
    "str1 = input(\"Enter the string: \")\n",
    "if str1 == str1[::-1]:\n",
    "    print(f\"{str1} is a palindrome\")\n",
    "else:\n",
    "    print(f\"{str1} is not a palindrome\")\n",
    "    "
   ]
  },
  {
   "cell_type": "markdown",
   "metadata": {},
   "source": [
    "**Question 20:** Write a Python program to sort a list of numbers in ascending order."
   ]
  },
  {
   "cell_type": "code",
   "execution_count": 8,
   "metadata": {},
   "outputs": [
    {
     "name": "stdout",
     "output_type": "stream",
     "text": [
      "Sorted list: [0, 1, 2, 3, 4, 5, 6, 7]\n"
     ]
    }
   ],
   "source": [
    "# Your code here\n",
    "num_list = []\n",
    "n = int(input(\"Enter the number of elements in the list: \"))\n",
    "for i in range(n):\n",
    "    num = int(input(f\"Enter element {i+1}: \"))\n",
    "    num_list.append(num)\n",
    "sorted_list = sorted(num_list)\n",
    "print(f\"Sorted list: {sorted_list}\")"
   ]
  },
  {
   "cell_type": "code",
   "execution_count": null,
   "metadata": {},
   "outputs": [],
   "source": []
  }
 ],
 "metadata": {
  "kernelspec": {
   "display_name": "bootcamp",
   "language": "python",
   "name": "python3"
  },
  "language_info": {
   "codemirror_mode": {
    "name": "ipython",
    "version": 3
   },
   "file_extension": ".py",
   "mimetype": "text/x-python",
   "name": "python",
   "nbconvert_exporter": "python",
   "pygments_lexer": "ipython3",
   "version": "3.12.11"
  }
 },
 "nbformat": 4,
 "nbformat_minor": 4
}
